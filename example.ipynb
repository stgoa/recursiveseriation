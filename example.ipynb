{
  "nbformat": 4,
  "nbformat_minor": 0,
  "metadata": {
    "colab": {
      "name": "example.ipynb",
      "provenance": [],
      "collapsed_sections": [],
      "include_colab_link": true
    },
    "kernelspec": {
      "display_name": "Python 3",
      "name": "python3"
    }
  },
  "cells": [
    {
      "cell_type": "markdown",
      "metadata": {
        "id": "view-in-github",
        "colab_type": "text"
      },
      "source": [
        "<a href=\"https://colab.research.google.com/github/stgoa/recursiveseriation/blob/main/example.ipynb\" target=\"_parent\"><img src=\"https://colab.research.google.com/assets/colab-badge.svg\" alt=\"Open In Colab\"/></a>"
      ]
    },
    {
      "cell_type": "markdown",
      "metadata": {
        "id": "Vmb9lXAPzu73"
      },
      "source": [
        "# An Optimal Algorithm for Strict Circular Seriation\n",
        "\n",
        "Author: Santiago Armstrong\n",
        "\n",
        "About this repository:\n",
        "\n",
        "This repository contains a Python implementation of the algorithm introduced in the paper '*An Optimal Algorithm for Strict Circular Seriation*'. Check the preprint on [ArXiv][1]\n",
        "\n",
        "**Abstract:**\n",
        "\n",
        "We study the problem of circular seriation, where we are given a matrix of pairwise dissimilarities between n objects, and the goal is to find a *circular order* of the objects in a manner that is consistent with their dissimilarity. This problem is a generalization of the classical *linear seriation* problem where the goal is to find a *linear order*, and for which optimal $O(n^2)$ algorithms are known. Our contributions can be summarized as follows. First, we introduce *circular Robinson matrices* as the natural class of dissimilarity matrices for the circular seriation problem. Second, for the case of *strict circular Robinson dissimilarity matrices* we provide an optimal $O(n^2)$ algorithm for the circular seriation problem. Finally, we propose a statistical model to analyze the well-posedness of the circular seriation problem for large n. In particular, we establish $O(log(n)/n)$ rates on the distance between any circular ordering found by solving the circular seriation problem to the underlying order of the model, in the Kendall-tau metric.\n",
        "\n",
        "\n",
        "\n",
        "[1]: https://arxiv.org/abs/2106.05944"
      ]
    },
    {
      "cell_type": "code",
      "metadata": {
        "colab": {
          "base_uri": "https://localhost:8080/"
        },
        "id": "P78-SDyLyLr2",
        "outputId": "39372d23-c4a9-4f14-da16-4e8254b9ec82"
      },
      "source": [
        "%ls"
      ],
      "execution_count": 7,
      "outputs": [
        {
          "output_type": "stream",
          "text": [
            "example.ipynb  \u001b[0m\u001b[01;34m__pycache__\u001b[0m/  README.md  rstree.py\n"
          ],
          "name": "stdout"
        }
      ]
    },
    {
      "cell_type": "markdown",
      "metadata": {
        "id": "ITaBemIB02JA"
      },
      "source": [
        "## Minimal example"
      ]
    },
    {
      "cell_type": "code",
      "metadata": {
        "id": "44BSplqCyZVC"
      },
      "source": [
        "from rstree import RecursiveSeriation, random_permutation, inpermute, permute, inversepermutation\n",
        "import numpy as np\n",
        "import matplotlib.pyplot as plt\n",
        "\n",
        "np.set_printoptions(precision=2)\n",
        "np.random.seed(42)"
      ],
      "execution_count": 30,
      "outputs": []
    },
    {
      "cell_type": "code",
      "metadata": {
        "id": "AH1VzbOqyar2"
      },
      "source": [
        "\n",
        "D =  [[0 , 1 , 3 , 5 , 6 , 7 , 7 , 6 , 5 , 4 , 3],\n",
        "        [  1 , 0 , 2 , 4 , 5 , 6 , 7 , 7 , 6 , 5 , 4],\n",
        "        [  3 , 2 , 0 , 1 , 4 , 5 , 6 , 7 , 7 , 6 , 5],\n",
        "        [  5 , 4 , 1 , 0 , 1 , 4 , 5 , 6 , 7 , 7 , 6],\n",
        "        [  6 , 5 , 4 , 1 , 0 , 1 , 4 , 5 , 6 , 7 , 7],\n",
        "        [  7 , 6 , 5 , 4 , 1 , 0 , 3 , 4 , 5 , 6 , 7],\n",
        "        [  7 , 7 , 6 , 5 , 4 , 3 , 0 , 1 , 4 , 5 , 6],\n",
        "        [  6 , 7 , 7 , 6 , 5 , 4 , 1 , 0 , 2 , 4 , 5],\n",
        "        [   5 , 6 , 7 , 7 , 6 , 5 , 4 , 2 , 0 , 1 , 4],\n",
        "        [  4 , 5 , 6 , 7 , 7 , 6 , 5 , 4 , 1 , 0 , 1],\n",
        "        [  3 , 4 , 5 , 6 , 7 , 7 , 6 , 5 , 4 , 1 , 0]]\n",
        "\n",
        "D = np.asarray(D)\n",
        "n = len(D)\n",
        "pi = random_permutation(n)  # generate a random permutation\n",
        "tau =inversepermutation(pi) # inverse of the unknown permutation\n",
        "D = permute(D,pi) # permute the dissimilarity matrix by the random permutation"
      ],
      "execution_count": 31,
      "outputs": []
    },
    {
      "cell_type": "code",
      "metadata": {
        "colab": {
          "base_uri": "https://localhost:8080/",
          "height": 298
        },
        "id": "4CZ1Q3bJ5xDY",
        "outputId": "6c097b12-b2df-4088-bbd9-f966f6cea3a3"
      },
      "source": [
        "plt.imshow(D)\n",
        "plt.title(\"Randomly permuted dissimilarity matrix\")"
      ],
      "execution_count": 33,
      "outputs": [
        {
          "output_type": "execute_result",
          "data": {
            "text/plain": [
              "Text(0.5, 1.0, 'Randomly permuted dissimilarity matrix')"
            ]
          },
          "metadata": {
            "tags": []
          },
          "execution_count": 33
        },
        {
          "output_type": "display_data",
          "data": {
            "image/png": "[encoded data removed]",
            "text/plain": [
              "<Figure size 432x288 with 1 Axes>"
            ]
          },
          "metadata": {
            "tags": [],
            "needs_background": "light"
          }
        }
      ]
    },
    {
      "cell_type": "code",
      "metadata": {
        "colab": {
          "base_uri": "https://localhost:8080/"
        },
        "id": "zJAU1kmN5R7w",
        "outputId": "8a02ce56-bea9-4353-b60b-7bddffd819db"
      },
      "source": [
        "print(\"Running algorithm...\")\n",
        "\n",
        "verbose = 0\n",
        "\n",
        "rs = RecursiveSeriation(dissimilarity=lambda x,y: D[x,y], n=n,verbose=verbose)\n",
        "rs.add_inter = True\n",
        "order = rs.sort()\n",
        "print(\"Finished!\")"
      ],
      "execution_count": 34,
      "outputs": [
        {
          "output_type": "stream",
          "text": [
            "Running algorithm...\n",
            "iter 0\n",
            "iter 1\n",
            "iter 2\n",
            "Finished!\n"
          ],
          "name": "stdout"
        }
      ]
    },
    {
      "cell_type": "code",
      "metadata": {
        "colab": {
          "base_uri": "https://localhost:8080/"
        },
        "id": "C7AQaL8CygIA",
        "outputId": "54ab8aca-9aab-429a-dde9-d42f479e94b2"
      },
      "source": [
        "print(\"tau\", tau)\n",
        "print(\"recovered ordering\", order)"
      ],
      "execution_count": 35,
      "outputs": [
        {
          "output_type": "stream",
          "text": [
            "tau [1, 5, 4, 9, 7, 0, 10, 8, 6, 2, 3]\n",
            "recovered ordering [0, 7, 9, 4, 5, 1, 3, 2, 6, 8, 10]\n"
          ],
          "name": "stdout"
        }
      ]
    },
    {
      "cell_type": "code",
      "metadata": {
        "id": "8R_OZ0vh3EG6",
        "colab": {
          "base_uri": "https://localhost:8080/",
          "height": 298
        },
        "outputId": "fb9e7c97-4c52-4350-ff6f-abddd7acf8eb"
      },
      "source": [
        "D_rec = permute(D,order)\n",
        "plt.imshow(D_rec)\n",
        "plt.title(\"Recovered dissimilarity matrix\")"
      ],
      "execution_count": 36,
      "outputs": [
        {
          "output_type": "execute_result",
          "data": {
            "text/plain": [
              "Text(0.5, 1.0, 'Recovered dissimilarity matrix')"
            ]
          },
          "metadata": {
            "tags": []
          },
          "execution_count": 36
        },
        {
          "output_type": "display_data",
          "data": {
            "image/png": "[encoded data removed]",
            "text/plain": [
              "<Figure size 432x288 with 1 Axes>"
            ]
          },
          "metadata": {
            "tags": [],
            "needs_background": "light"
          }
        }
      ]
    },
    {
      "cell_type": "code",
      "metadata": {
        "id": "wejC5FbV6G0d"
      },
      "source": [
        ""
      ],
      "execution_count": null,
      "outputs": []
    }
  ]
}