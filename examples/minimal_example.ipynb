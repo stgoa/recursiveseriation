{
 "cells": [
  {
   "cell_type": "markdown",
   "metadata": {
    "colab_type": "text",
    "id": "view-in-github"
   },
   "source": [
    "<a href=\"https://colab.research.google.com/github/stgoa/recursiveseriation/blob/main/example.ipynb\" target=\"_parent\"><img src=\"https://colab.research.google.com/assets/colab-badge.svg\" alt=\"Open In Colab\"/></a>"
   ]
  },
  {
   "cell_type": "markdown",
   "metadata": {
    "id": "Vmb9lXAPzu73"
   },
   "source": [
    "# An Optimal Algorithm for Strict Circular Seriation\n",
    "\n",
    "Author: Santiago Armstrong\n",
    "\n",
    "About this repository:\n",
    "\n",
    "This repository contains a Python implementation of the algorithm introduced in the paper '*An Optimal Algorithm for Strict Circular Seriation*'. Check the preprint on [ArXiv][1]\n",
    "\n",
    "**Abstract:**\n",
    "\n",
    "We study the problem of circular seriation, where we are given a matrix of pairwise dissimilarities between n objects, and the goal is to find a *circular order* of the objects in a manner that is consistent with their dissimilarity. This problem is a generalization of the classical *linear seriation* problem where the goal is to find a *linear order*, and for which optimal $O(n^2)$ algorithms are known. Our contributions can be summarized as follows. First, we introduce *circular Robinson matrices* as the natural class of dissimilarity matrices for the circular seriation problem. Second, for the case of *strict circular Robinson dissimilarity matrices* we provide an optimal $O(n^2)$ algorithm for the circular seriation problem. Finally, we propose a statistical model to analyze the well-posedness of the circular seriation problem for large n. In particular, we establish $O(log(n)/n)$ rates on the distance between any circular ordering found by solving the circular seriation problem to the underlying order of the model, in the Kendall-tau metric.\n",
    "\n",
    "\n",
    "\n",
    "[1]: https://arxiv.org/abs/2106.05944"
   ]
  },
  {
   "cell_type": "markdown",
   "metadata": {},
   "source": [
    "If you want to run this in Google Colab, make sure to clone the repository:\n",
    "\n",
    "    !git clone https://github.com/stgoa/recursiveseriation.git\n",
    "    %cd recursiveseriation"
   ]
  },
  {
   "cell_type": "code",
   "execution_count": 1,
   "metadata": {
    "colab": {
     "base_uri": "https://localhost:8080/"
    },
    "id": "P78-SDyLyLr2",
    "outputId": "39372d23-c4a9-4f14-da16-4e8254b9ec82"
   },
   "outputs": [
    {
     "name": "stdout",
     "output_type": "stream",
     "text": [
      "example_points_in_circle.ipynb  minimal_example.ipynb\r\n"
     ]
    }
   ],
   "source": [
    "%ls"
   ]
  },
  {
   "cell_type": "markdown",
   "metadata": {
    "id": "ITaBemIB02JA"
   },
   "source": [
    "## Minimal example"
   ]
  },
  {
   "cell_type": "code",
   "execution_count": 2,
   "metadata": {
    "id": "44BSplqCyZVC"
   },
   "outputs": [],
   "source": [
    "from recursiveseriation.seriation import RecursiveSeriation\n",
    "from recursiveseriation.utils import  (random_permutation, inpermute, permute, inversepermutation)\n",
    "import numpy as np\n",
    "import matplotlib.pyplot as plt\n",
    "\n",
    "np.set_printoptions(precision=2)\n",
    "np.random.seed(42)"
   ]
  },
  {
   "cell_type": "code",
   "execution_count": 3,
   "metadata": {
    "id": "AH1VzbOqyar2"
   },
   "outputs": [],
   "source": [
    "\n",
    "D =  [[0 , 1 , 3 , 5 , 6 , 7 , 7 , 6 , 5 , 4 , 3],\n",
    "        [  1 , 0 , 2 , 4 , 5 , 6 , 7 , 7 , 6 , 5 , 4],\n",
    "        [  3 , 2 , 0 , 1 , 4 , 5 , 6 , 7 , 7 , 6 , 5],\n",
    "        [  5 , 4 , 1 , 0 , 1 , 4 , 5 , 6 , 7 , 7 , 6],\n",
    "        [  6 , 5 , 4 , 1 , 0 , 1 , 4 , 5 , 6 , 7 , 7],\n",
    "        [  7 , 6 , 5 , 4 , 1 , 0 , 3 , 4 , 5 , 6 , 7],\n",
    "        [  7 , 7 , 6 , 5 , 4 , 3 , 0 , 1 , 4 , 5 , 6],\n",
    "        [  6 , 7 , 7 , 6 , 5 , 4 , 1 , 0 , 2 , 4 , 5],\n",
    "        [   5 , 6 , 7 , 7 , 6 , 5 , 4 , 2 , 0 , 1 , 4],\n",
    "        [  4 , 5 , 6 , 7 , 7 , 6 , 5 , 4 , 1 , 0 , 1],\n",
    "        [  3 , 4 , 5 , 6 , 7 , 7 , 6 , 5 , 4 , 1 , 0]]\n",
    "\n",
    "D = np.asarray(D)\n",
    "n = len(D)\n",
    "pi = random_permutation(n)  # generate a random permutation\n",
    "tau =inversepermutation(pi) # inverse of the unknown permutation\n",
    "D = permute(D,pi) # permute the dissimilarity matrix by the random permutation"
   ]
  },
  {
   "cell_type": "code",
   "execution_count": 4,
   "metadata": {
    "colab": {
     "base_uri": "https://localhost:8080/",
     "height": 298
    },
    "id": "4CZ1Q3bJ5xDY",
    "outputId": "6c097b12-b2df-4088-bbd9-f966f6cea3a3"
   },
   "outputs": [
    {
     "data": {
      "text/plain": [
       "Text(0.5, 1.0, 'Randomly permuted dissimilarity matrix')"
      ]
     },
     "execution_count": 4,
     "metadata": {},
     "output_type": "execute_result"
    },
    {
     "data": {
      "image/png": "[encoded data removed]",
      "text/plain": [
       "<Figure size 640x480 with 1 Axes>"
      ]
     },
     "metadata": {},
     "output_type": "display_data"
    }
   ],
   "source": [
    "plt.imshow(D)\n",
    "plt.title(\"Randomly permuted dissimilarity matrix\")"
   ]
  },
  {
   "cell_type": "code",
   "execution_count": 5,
   "metadata": {
    "colab": {
     "base_uri": "https://localhost:8080/"
    },
    "id": "zJAU1kmN5R7w",
    "outputId": "8a02ce56-bea9-4353-b60b-7bddffd819db"
   },
   "outputs": [
    {
     "name": "stdout",
     "output_type": "stream",
     "text": [
      "Running algorithm...\n",
      "Finished!\n"
     ]
    }
   ],
   "source": [
    "print(\"Running algorithm...\")\n",
    "\n",
    "rs = RecursiveSeriation(dissimilarity=lambda x,y: D[x,y], n=n)\n",
    "order = rs.sort()\n",
    "print(\"Finished!\")"
   ]
  },
  {
   "cell_type": "code",
   "execution_count": 6,
   "metadata": {
    "colab": {
     "base_uri": "https://localhost:8080/"
    },
    "id": "C7AQaL8CygIA",
    "outputId": "54ab8aca-9aab-429a-dde9-d42f479e94b2"
   },
   "outputs": [
    {
     "name": "stdout",
     "output_type": "stream",
     "text": [
      "tau [1, 5, 4, 9, 7, 0, 10, 8, 6, 2, 3]\n",
      "recovered ordering [0, 7, 9, 4, 5, 1, 3, 2, 6, 8, 10]\n"
     ]
    }
   ],
   "source": [
    "print(\"tau\", tau)\n",
    "print(\"recovered ordering\", order)"
   ]
  },
  {
   "cell_type": "code",
   "execution_count": 7,
   "metadata": {
    "colab": {
     "base_uri": "https://localhost:8080/",
     "height": 298
    },
    "id": "8R_OZ0vh3EG6",
    "outputId": "fb9e7c97-4c52-4350-ff6f-abddd7acf8eb"
   },
   "outputs": [
    {
     "data": {
      "text/plain": [
       "Text(0.5, 1.0, 'Recovered dissimilarity matrix')"
      ]
     },
     "execution_count": 7,
     "metadata": {},
     "output_type": "execute_result"
    },
    {
     "data": {
      "image/png": "[encoded data removed]",
      "text/plain": [
       "<Figure size 640x480 with 1 Axes>"
      ]
     },
     "metadata": {},
     "output_type": "display_data"
    }
   ],
   "source": [
    "D_rec = permute(D,order)\n",
    "plt.imshow(D_rec)\n",
    "plt.title(\"Recovered dissimilarity matrix\")"
   ]
  },
  {
   "cell_type": "code",
   "execution_count": null,
   "metadata": {},
   "outputs": [],
   "source": []
  }
 ],
 "metadata": {
  "colab": {
   "collapsed_sections": [],
   "include_colab_link": true,
   "name": "example.ipynb",
   "provenance": []
  },
  "kernelspec": {
   "display_name": "Python 3 (ipykernel)",
   "language": "python",
   "name": "python3"
  },
  "language_info": {
   "codemirror_mode": {
    "name": "ipython",
    "version": 3
   },
   "file_extension": ".py",
   "mimetype": "text/x-python",
   "name": "python",
   "nbconvert_exporter": "python",
   "pygments_lexer": "ipython3",
   "version": "3.10.6"
  }
 },
 "nbformat": 4,
 "nbformat_minor": 1
}
